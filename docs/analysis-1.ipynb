{
 "cells": [
  {
   "cell_type": "markdown",
   "id": "c2fff234",
   "metadata": {},
   "source": [
    "# First test model\n",
    "\n",
    "### 1) load ODYM"
   ]
  },
  {
   "cell_type": "code",
   "execution_count": 91,
   "id": "9535a862",
   "metadata": {},
   "outputs": [],
   "source": [
    "# Load a local copy of the current ODYM branch:\n",
    "import sys, os\n",
    "import numpy as np\n",
    "import pandas as pd\n",
    "import matplotlib.pyplot as plt\n",
    "import openpyxl\n",
    "import pickle\n",
    "import pylab\n",
    "\n",
    "\n",
    "# Specify path to dynamic stock model and to datafile, relative\n",
    "MainPath = os.path.join('..', 'odym', 'modules')\n",
    "DataPath = os.path.join('..', 'docs', 'files')\n",
    "sys.path.insert(0, MainPath) # add ODYM module directory to system path\n",
    "\n",
    "sys.path.insert(0, os.path.join('..', 'odym', 'modules')) # add ODYM module directory to system path, relative\n",
    "sys.path.insert(0, os.path.join(os.getcwd(),'..', 'odym', 'modules')) # add ODYM module directory to system path, absolute\n",
    "\n",
    "import ODYM_Classes as msc # import the ODYM class file\n",
    "import ODYM_Functions as msf # import the ODYM function file\n",
    "import dynamic_stock_model as dsm # import the dynamic stock model library"
   ]
  },
  {
   "cell_type": "markdown",
   "id": "a7c0b868",
   "metadata": {},
   "source": [
    "### 2) Reading and formatting input data\n",
    "\n",
    "The stock data for wind power capacity is obtained from the EU 2020 reference scenario (LDS) is exported and stored as .xslx. A copy of the file is provided on the GitHub repo."
   ]
  },
  {
   "cell_type": "code",
   "execution_count": 71,
   "id": "4000f482",
   "metadata": {},
   "outputs": [],
   "source": [
    "WindPowerFilePath  = os.path.join(DataPath, 'Analysis_1_input.xlsx')\n",
    "\n",
    "MyGoods = ['Onshore', 'Offshore']\n",
    "MyYears = list(np.arange(2000,2051))"
   ]
  },
  {
   "cell_type": "code",
   "execution_count": 72,
   "id": "52a2710e",
   "metadata": {},
   "outputs": [
    {
     "name": "stdout",
     "output_type": "stream",
     "text": [
      "      Onshore  Offshore\n",
      "2000        0         0\n",
      "2001    13206       305\n",
      "2002    26411       609\n",
      "2003    39617       914\n",
      "2004    52822      1218\n",
      "(2, 51)\n"
     ]
    }
   ],
   "source": [
    "WindPower_df = pd.read_excel(WindPowerFilePath, sheet_name='Gross_Electricity_Generation',index_col=0)\n",
    "WindPower_df = WindPower_df.T\n",
    "\n",
    "# reindex to include all years\n",
    "WindPower_df_full = WindPower_df.reindex(MyYears)\n",
    "#interpolate missing years linearly and keep whole numbers\n",
    "WindPower_df_full = WindPower_df_full.interpolate(method='linear').round().astype(int)\n",
    "\n",
    "print(WindPower_df_full.head())\n",
    "\n",
    "\n",
    "WindPowerArray = WindPower_df_full.to_numpy().T # Type of Wind Turbine x Year\n",
    "print(WindPowerArray.shape)\n"
   ]
  },
  {
   "cell_type": "markdown",
   "id": "da410557",
   "metadata": {},
   "source": [
    "The average lifetime per Good (onshore, offshore) is obtained from .... and read from the input data Excel file. "
   ]
  },
  {
   "cell_type": "code",
   "execution_count": 73,
   "id": "50280e40",
   "metadata": {},
   "outputs": [
    {
     "name": "stdout",
     "output_type": "stream",
     "text": [
      "[25, 30]\n"
     ]
    }
   ],
   "source": [
    "LifetimeFile = openpyxl.load_workbook(WindPowerFilePath, data_only=True)\n",
    "Lifetime_Datasheet = LifetimeFile['Average_Lifetime']\n",
    "\n",
    "Lifetimes = []\n",
    "\n",
    "for m in range(len(MyGoods)):\n",
    "    Lifetimes.append(Lifetime_Datasheet.cell(m+1,2).value) # Add lifetime values to list\n",
    "print(Lifetimes) "
   ]
  },
  {
   "cell_type": "code",
   "execution_count": null,
   "id": "28f4fbad",
   "metadata": {},
   "outputs": [],
   "source": []
  },
  {
   "cell_type": "markdown",
   "id": "ed7ca2e8",
   "metadata": {},
   "source": [
    "### 3) Define MFA system\n",
    "\n",
    "with just 1 element for now (Nd)\n",
    "\n",
    "First, define a classifications of objects flowing:"
   ]
  },
  {
   "cell_type": "code",
   "execution_count": 74,
   "id": "19e40dc3",
   "metadata": {},
   "outputs": [],
   "source": [
    "ModelClassification  = {} # Create dictionary of model classifications\n",
    "\n",
    "\n",
    "\n",
    "ModelClassification['Time'] = msc.Classification(Name = 'Time', Dimension = 'Time', ID = 1, \n",
    "                                                 Items = MyYears)\n",
    "\n",
    "ModelClassification['Cohort'] = msc.Classification(Name = 'Age-cohort', Dimension = 'Time', ID = 2,\n",
    "                                                   Items = MyYears)\n",
    "# Classification for cohort is used to track age-cohorts in the stock.\n",
    "\n",
    "\n",
    "ModelClassification['Good'] = msc.Classification(Name = 'Goods', Dimension = 'Good Type', ID = 3,\n",
    "                                                   Items = MyGoods)\n",
    "# Classification for good is used for the wind turbine type\n",
    "\n",
    "ModelClassification['Product'] = msc.Classification(Name = 'Product', Dimension = 'Power', ID = 4,\n",
    "                                                   Items = ['Capacity'])\n",
    "# Classification for product is used for the wind power capacity\n",
    "\n",
    "ModelClassification['Element'] = msc.Classification(Name = 'Elements', Dimension = 'Element', ID = 5, \n",
    "                                                    Items = ['Nd'])\n",
    "\n",
    "# Get model time start, end, and duration:\n",
    "Model_Time_Start = int(min(ModelClassification['Time'].Items))\n",
    "Model_Time_End = int(max(ModelClassification['Time'].Items))\n",
    "Model_Duration = Model_Time_End - Model_Time_Start"
   ]
  },
  {
   "cell_type": "markdown",
   "id": "d6fa7124",
   "metadata": {},
   "source": [
    "Than define the index table:"
   ]
  },
  {
   "cell_type": "code",
   "execution_count": 75,
   "id": "da6a7412",
   "metadata": {},
   "outputs": [
    {
     "data": {
      "application/vnd.microsoft.datawrangler.viewer.v0+json": {
       "columns": [
        {
         "name": "Aspect",
         "rawType": "object",
         "type": "string"
        },
        {
         "name": "Description",
         "rawType": "object",
         "type": "string"
        },
        {
         "name": "Dimension",
         "rawType": "object",
         "type": "string"
        },
        {
         "name": "Classification",
         "rawType": "object",
         "type": "unknown"
        },
        {
         "name": "IndexLetter",
         "rawType": "object",
         "type": "string"
        }
       ],
       "conversionMethod": "pd.DataFrame",
       "ref": "81516e16-4f33-4523-ab9c-2c1cfc12a36e",
       "rows": [
        [
         "Time",
         "Model aspect \"Time\"",
         "Time",
         "<ODYM_Classes.Classification object at 0x0000019334F12090>",
         "t"
        ],
        [
         "Age-cohort",
         "Model aspect \"Age-cohort\"",
         "Time",
         "<ODYM_Classes.Classification object at 0x0000019334F12310>",
         "c"
        ],
        [
         "Good",
         "Model aspect \"Good that produces electricity\"",
         "Good Type",
         "<ODYM_Classes.Classification object at 0x0000019334F13690>",
         "g"
        ],
        [
         "Product",
         "Model aspect \"Product\"",
         "Power",
         "<ODYM_Classes.Classification object at 0x0000019334F112D0>",
         "p"
        ],
        [
         "Element",
         "Model aspect \"Element\"",
         "Element",
         "<ODYM_Classes.Classification object at 0x0000019334F10090>",
         "e"
        ]
       ],
       "shape": {
        "columns": 4,
        "rows": 5
       }
      },
      "text/html": [
       "<div>\n",
       "<style scoped>\n",
       "    .dataframe tbody tr th:only-of-type {\n",
       "        vertical-align: middle;\n",
       "    }\n",
       "\n",
       "    .dataframe tbody tr th {\n",
       "        vertical-align: top;\n",
       "    }\n",
       "\n",
       "    .dataframe thead th {\n",
       "        text-align: right;\n",
       "    }\n",
       "</style>\n",
       "<table border=\"1\" class=\"dataframe\">\n",
       "  <thead>\n",
       "    <tr style=\"text-align: right;\">\n",
       "      <th></th>\n",
       "      <th>Description</th>\n",
       "      <th>Dimension</th>\n",
       "      <th>Classification</th>\n",
       "      <th>IndexLetter</th>\n",
       "    </tr>\n",
       "    <tr>\n",
       "      <th>Aspect</th>\n",
       "      <th></th>\n",
       "      <th></th>\n",
       "      <th></th>\n",
       "      <th></th>\n",
       "    </tr>\n",
       "  </thead>\n",
       "  <tbody>\n",
       "    <tr>\n",
       "      <th>Time</th>\n",
       "      <td>Model aspect \"Time\"</td>\n",
       "      <td>Time</td>\n",
       "      <td>&lt;ODYM_Classes.Classification object at 0x00000...</td>\n",
       "      <td>t</td>\n",
       "    </tr>\n",
       "    <tr>\n",
       "      <th>Age-cohort</th>\n",
       "      <td>Model aspect \"Age-cohort\"</td>\n",
       "      <td>Time</td>\n",
       "      <td>&lt;ODYM_Classes.Classification object at 0x00000...</td>\n",
       "      <td>c</td>\n",
       "    </tr>\n",
       "    <tr>\n",
       "      <th>Good</th>\n",
       "      <td>Model aspect \"Good that produces electricity\"</td>\n",
       "      <td>Good Type</td>\n",
       "      <td>&lt;ODYM_Classes.Classification object at 0x00000...</td>\n",
       "      <td>g</td>\n",
       "    </tr>\n",
       "    <tr>\n",
       "      <th>Product</th>\n",
       "      <td>Model aspect \"Product\"</td>\n",
       "      <td>Power</td>\n",
       "      <td>&lt;ODYM_Classes.Classification object at 0x00000...</td>\n",
       "      <td>p</td>\n",
       "    </tr>\n",
       "    <tr>\n",
       "      <th>Element</th>\n",
       "      <td>Model aspect \"Element\"</td>\n",
       "      <td>Element</td>\n",
       "      <td>&lt;ODYM_Classes.Classification object at 0x00000...</td>\n",
       "      <td>e</td>\n",
       "    </tr>\n",
       "  </tbody>\n",
       "</table>\n",
       "</div>"
      ],
      "text/plain": [
       "                                              Description  Dimension  \\\n",
       "Aspect                                                                 \n",
       "Time                                  Model aspect \"Time\"       Time   \n",
       "Age-cohort                      Model aspect \"Age-cohort\"       Time   \n",
       "Good        Model aspect \"Good that produces electricity\"  Good Type   \n",
       "Product                            Model aspect \"Product\"      Power   \n",
       "Element                            Model aspect \"Element\"    Element   \n",
       "\n",
       "                                               Classification IndexLetter  \n",
       "Aspect                                                                     \n",
       "Time        <ODYM_Classes.Classification object at 0x00000...           t  \n",
       "Age-cohort  <ODYM_Classes.Classification object at 0x00000...           c  \n",
       "Good        <ODYM_Classes.Classification object at 0x00000...           g  \n",
       "Product     <ODYM_Classes.Classification object at 0x00000...           p  \n",
       "Element     <ODYM_Classes.Classification object at 0x00000...           e  "
      ]
     },
     "execution_count": 75,
     "metadata": {},
     "output_type": "execute_result"
    }
   ],
   "source": [
    "IndexTable = pd.DataFrame({'Aspect'        : ['Time','Age-cohort','Good','Product','Element'], # 'Time' and 'Element' must be present!\n",
    "                           'Description'   : ['Model aspect \"Time\"','Model aspect \"Age-cohort\"' ,'Model aspect \"Good that produces electricity\"' ,'Model aspect \"Product\"', 'Model aspect \"Element\"'],\n",
    "                           'Dimension'     : ['Time','Time','Good Type','Power','Element'], # 'Time' and 'Element' are also dimensions\n",
    "                           'Classification': [ModelClassification[Aspect] for Aspect in ['Time','Cohort','Good','Product','Element']],\n",
    "                           'IndexLetter'   : ['t','c','g','p','e']}) # Unique one letter (upper or lower case) indices to be used later for calculations.\n",
    "\n",
    "# Default indexing of IndexTable, other indices are produced on the fly\n",
    "IndexTable.set_index('Aspect', inplace = True) \n",
    "\n",
    "IndexTable"
   ]
  },
  {
   "cell_type": "markdown",
   "id": "b8c2a92a",
   "metadata": {},
   "source": [
    "Define the MFA system:"
   ]
  },
  {
   "cell_type": "code",
   "execution_count": 76,
   "id": "1ef24549",
   "metadata": {},
   "outputs": [],
   "source": [
    "Dyn_MFA_System = msc.MFAsystem(Name = 'TestSystem', \n",
    "                      Geogr_Scope = 'EU',               #what is my exact georgraphical scope?\n",
    "                      Unit = 'GW', \n",
    "                      ProcessList = [], \n",
    "                      FlowDict = {}, \n",
    "                      StockDict = {},\n",
    "                      ParameterDict = {}, \n",
    "                      Time_Start = Model_Time_Start, \n",
    "                      Time_End = Model_Time_End, \n",
    "                      IndexTable = IndexTable, \n",
    "                      Elements = IndexTable.loc['Element'].Classification.Items) # Initialize MFA system"
   ]
  },
  {
   "cell_type": "markdown",
   "id": "76fcf7ad",
   "metadata": {},
   "source": [
    "### 4) Inserting data into the MFA system\n",
    "\n",
    "Define the processes"
   ]
  },
  {
   "cell_type": "code",
   "execution_count": 77,
   "id": "5ceecdcc",
   "metadata": {},
   "outputs": [
    {
     "data": {
      "text/plain": [
       "[<ODYM_Classes.Process at 0x19335007050>,\n",
       " <ODYM_Classes.Process at 0x19334f6f850>]"
      ]
     },
     "execution_count": 77,
     "metadata": {},
     "output_type": "execute_result"
    }
   ],
   "source": [
    "Dyn_MFA_System.ProcessList = [] # Start with empty process list, only process numbers (IDs) and names are needed.\n",
    "Dyn_MFA_System.ProcessList.append(msc.Process(Name = 'Environment', ID   = 0))                          #Define different name for environment!\n",
    "Dyn_MFA_System.ProcessList.append(msc.Process(Name = 'WT use phase'  , ID   = 1))\n",
    "\n",
    "# Print list of processes:\n",
    "Dyn_MFA_System.ProcessList"
   ]
  },
  {
   "cell_type": "markdown",
   "id": "2ee7094e",
   "metadata": {},
   "source": [
    "Defining the parameter values for the ... parameters"
   ]
  },
  {
   "cell_type": "code",
   "execution_count": 78,
   "id": "07db426e",
   "metadata": {},
   "outputs": [
    {
     "name": "stdout",
     "output_type": "stream",
     "text": [
      "[[     0  13206  26411  39617  52822  66028  79587  93146 106704 120263\n",
      "  133822 156186 178549 200913 223276 245640 264828 284016 303204 322392\n",
      "  341580 372499 403418 434337 465256 496175 531628 567081 602535 637988\n",
      "  673441 693491 713541 733591 753641 773691 786852 800012 813173 826333\n",
      "  839494 860507 881520 902532 923545 944558 953780 963003 972225 981448\n",
      "  990670]\n",
      " [     0    305    609    914   1218   1523   2274   3024   3775   4525\n",
      "    5276   7685  10093  12502  14910  17319  23312  29305  35297  41290\n",
      "   47283  60624  73965  87307 100648 113989 131762 149535 167308 185081\n",
      "  202854 214629 226404 238179 249954 261729 270594 279459 288323 297188\n",
      "  306053 313805 321556 329308 337059 344811 347802 350794 353785 356777\n",
      "  359768]]\n"
     ]
    }
   ],
   "source": [
    "ParameterDict = {}\n",
    "\n",
    "#\n",
    "ParameterDict['S_wt']= msc.Parameter(Name = 'Wind Turbine Capacity', ID = 1, P_Res = 1,\n",
    "                                       MetaData = None, Indices = 'g,t', \n",
    "                                       Values = WindPowerArray, Unit = 'GW')\n",
    "\n",
    "#\n",
    "ParameterDict['tau']   = msc.Parameter(Name = 'mean good lifetime', ID = 2, P_Res = 1, \n",
    "                                       MetaData = None, Indices = 'g', \n",
    "                                       Values = Lifetimes, Unit = 'yr')\n",
    "ParameterDict['sigma'] = msc.Parameter(Name = 'stddev of mean good lifetime', ID = 3, P_Res = 1,\n",
    "                                       MetaData = None, Indices = 'g', \n",
    "                                       Values = [0.2 * i for i in Lifetimes], Unit = 'yr')      \t        #CHECK standard deviation\n",
    "\n",
    "# Assign parameter dictionary to MFA system:\n",
    "Dyn_MFA_System.ParameterDict = ParameterDict\n",
    "\n",
    "print(ParameterDict['S_wt'].Values)"
   ]
  },
  {
   "cell_type": "markdown",
   "id": "928fdd55",
   "metadata": {},
   "source": [
    "The flows and stock changes are as follows:"
   ]
  },
  {
   "cell_type": "code",
   "execution_count": 79,
   "id": "bb68db6a",
   "metadata": {},
   "outputs": [],
   "source": [
    "# Define the flows of the system, and initialise their values:\n",
    "Dyn_MFA_System.FlowDict['F_0_1'] = msc.Flow(Name = 'Annually deployed capacity', P_Start = 0, P_End = 1,\n",
    "                                            Indices = 't,g', Values=None)\n",
    "Dyn_MFA_System.FlowDict['F_1_0'] = msc.Flow(Name = 'Eol goods', P_Start = 1, P_End = 0,\n",
    "                                            Indices = 't,c,g', Values=None)\n",
    "Dyn_MFA_System.StockDict['S_1']   = msc.Stock(Name = 'Wind power stock', P_Res = 1, Type = 0,\n",
    "                                              Indices = 't,g', Values=None)\n",
    "Dyn_MFA_System.StockDict['dS_1']  = msc.Stock(Name = 'Wind power stock change', P_Res = 1, Type = 1,\n",
    "                                              Indices = 't,g', Values=None)\n",
    "\n",
    "Dyn_MFA_System.Initialize_FlowValues() # Assign empty arrays to flows according to dimensions.\n",
    "Dyn_MFA_System.Initialize_StockValues() # Assign empty arrays to flows according to dimensions."
   ]
  },
  {
   "cell_type": "code",
   "execution_count": null,
   "id": "90d6756f",
   "metadata": {},
   "outputs": [
    {
     "name": "stdout",
     "output_type": "stream",
     "text": [
      "[[0. 0.]\n",
      " [0. 0.]\n",
      " [0. 0.]\n",
      " [0. 0.]\n",
      " [0. 0.]\n",
      " [0. 0.]\n",
      " [0. 0.]\n",
      " [0. 0.]\n",
      " [0. 0.]\n",
      " [0. 0.]\n",
      " [0. 0.]\n",
      " [0. 0.]\n",
      " [0. 0.]\n",
      " [0. 0.]\n",
      " [0. 0.]\n",
      " [0. 0.]\n",
      " [0. 0.]\n",
      " [0. 0.]\n",
      " [0. 0.]\n",
      " [0. 0.]\n",
      " [0. 0.]\n",
      " [0. 0.]\n",
      " [0. 0.]\n",
      " [0. 0.]\n",
      " [0. 0.]\n",
      " [0. 0.]\n",
      " [0. 0.]\n",
      " [0. 0.]\n",
      " [0. 0.]\n",
      " [0. 0.]\n",
      " [0. 0.]\n",
      " [0. 0.]\n",
      " [0. 0.]\n",
      " [0. 0.]\n",
      " [0. 0.]\n",
      " [0. 0.]\n",
      " [0. 0.]\n",
      " [0. 0.]\n",
      " [0. 0.]\n",
      " [0. 0.]\n",
      " [0. 0.]\n",
      " [0. 0.]\n",
      " [0. 0.]\n",
      " [0. 0.]\n",
      " [0. 0.]\n",
      " [0. 0.]\n",
      " [0. 0.]\n",
      " [0. 0.]\n",
      " [0. 0.]\n",
      " [0. 0.]\n",
      " [0. 0.]]\n"
     ]
    }
   ],
   "source": [
    "# Check whether flow value arrays match their indices, etc. See method documentation.\n",
    "Dyn_MFA_System.Consistency_Check() \n"
   ]
  },
  {
   "cell_type": "markdown",
   "id": "f2bb4c45",
   "metadata": {},
   "source": [
    "### 5) Programming a solution to the MFA system"
   ]
  },
  {
   "cell_type": "code",
   "execution_count": 89,
   "id": "bffac019",
   "metadata": {},
   "outputs": [],
   "source": [
    "# Fit model parameter 'S_wt' to right shape in FlowDict:\n",
    "Dyn_MFA_System.StockDict['S_1'].Values[:,:] = Dyn_MFA_System.ParameterDict['S_wt'].Values.transpose()\n",
    "\n",
    "# loop over all goods (WT Types) to determine the stock-driven outflow\n",
    "for GoodType in range(0,len(MyGoods)):\n",
    "    # Create helper DSM for computing the dynamic stock model:\n",
    "    DSM_Stock = dsm.DynamicStockModel(t = np.array(MyYears),\n",
    "                                       s = Dyn_MFA_System.ParameterDict['S_wt'].Values[GoodType,:], \n",
    "                                       lt = {'Type': 'Normal', 'Mean': [Dyn_MFA_System.ParameterDict['tau'].Values[GoodType]],\n",
    "                                             'StdDev': [Dyn_MFA_System.ParameterDict['sigma'].Values[GoodType]]})\n",
    "    DS = DSM_Stock.compute_stock_change()\n",
    "    # compute the stock per cohort, outflow per cohort and the inflow\n",
    "    [S_C, O_C, I] = DSM_Stock.compute_stock_driven_model()\n",
    "\n",
    "    Dyn_MFA_System.StockDict['dS_1'].Values[:,GoodType] = DS\n",
    "    Dyn_MFA_System.FlowDict['F_1_0'].Values[:,:,GoodType] = O_C\n",
    "    Dyn_MFA_System.FlowDict['F_0_1'].Values[:,GoodType] = I"
   ]
  },
  {
   "cell_type": "markdown",
   "id": "c01f2b1e",
   "metadata": {},
   "source": [
    "### 6) Mass balance check"
   ]
  },
  {
   "cell_type": "code",
   "execution_count": 92,
   "id": "f74da356",
   "metadata": {},
   "outputs": [
    {
     "ename": "ValueError",
     "evalue": "einstein sum subscripts string included output subscript 'e' which never appeared in an input",
     "output_type": "error",
     "traceback": [
      "\u001b[31m---------------------------------------------------------------------------\u001b[39m",
      "\u001b[31mValueError\u001b[39m                                Traceback (most recent call last)",
      "\u001b[36mCell\u001b[39m\u001b[36m \u001b[39m\u001b[32mIn[92]\u001b[39m\u001b[32m, line 1\u001b[39m\n\u001b[32m----> \u001b[39m\u001b[32m1\u001b[39m Bal = \u001b[43mDyn_MFA_System\u001b[49m\u001b[43m.\u001b[49m\u001b[43mMassBalance\u001b[49m\u001b[43m(\u001b[49m\u001b[43m)\u001b[49m\n\u001b[32m      2\u001b[39m \u001b[38;5;28mprint\u001b[39m(Bal.shape) \u001b[38;5;66;03m# dimensions of balance are: time step x process x chemical element\u001b[39;00m\n\u001b[32m      3\u001b[39m \u001b[38;5;28mprint\u001b[39m(np.abs(Bal).sum(axis = \u001b[32m0\u001b[39m)) \u001b[38;5;66;03m# reports the sum of all absolute balancing errors by process.\u001b[39;00m\n",
      "\u001b[36mFile \u001b[39m\u001b[32mc:\\Users\\elisa\\Documents\\thesis\\ODYM\\docs\\..\\odym\\modules\\ODYM_Classes.py:193\u001b[39m, in \u001b[36mMFAsystem.MassBalance\u001b[39m\u001b[34m(self, Element)\u001b[39m\n\u001b[32m    189\u001b[39m \u001b[38;5;66;03m#process position 0 is the balance for the system boundary, the other positions are for the processes, \u001b[39;00m\n\u001b[32m    190\u001b[39m \u001b[38;5;66;03m#element position 0 is the balance for the entire mass, the other are for the balance of the individual elements\u001b[39;00m\n\u001b[32m    192\u001b[39m \u001b[38;5;28;01mfor\u001b[39;00m key \u001b[38;5;129;01min\u001b[39;00m \u001b[38;5;28mself\u001b[39m.FlowDict: \u001b[38;5;66;03m# Add all flows to mass balance\u001b[39;00m\n\u001b[32m--> \u001b[39m\u001b[32m193\u001b[39m     Bal[:,\u001b[38;5;28mself\u001b[39m.FlowDict[key].P_Start,:] -= \u001b[38;5;28;43mself\u001b[39;49m\u001b[43m.\u001b[49m\u001b[43mFlow_Sum_By_Element\u001b[49m\u001b[43m(\u001b[49m\u001b[43mkey\u001b[49m\u001b[43m)\u001b[49m \u001b[38;5;66;03m# Flow leaving a process\u001b[39;00m\n\u001b[32m    194\u001b[39m     Bal[:,\u001b[38;5;28mself\u001b[39m.FlowDict[key].P_End,:]   += \u001b[38;5;28mself\u001b[39m.Flow_Sum_By_Element(key) \u001b[38;5;66;03m# Flow entering a process\u001b[39;00m\n\u001b[32m    196\u001b[39m \u001b[38;5;28;01mfor\u001b[39;00m key \u001b[38;5;129;01min\u001b[39;00m \u001b[38;5;28mself\u001b[39m.StockDict: \u001b[38;5;66;03m# Add all stock changes to the mass balance\u001b[39;00m\n",
      "\u001b[36mFile \u001b[39m\u001b[32mc:\\Users\\elisa\\Documents\\thesis\\ODYM\\docs\\..\\odym\\modules\\ODYM_Classes.py:167\u001b[39m, in \u001b[36mMFAsystem.Flow_Sum_By_Element\u001b[39m\u001b[34m(self, FlowKey)\u001b[39m\n\u001b[32m    159\u001b[39m \u001b[38;5;28;01mdef\u001b[39;00m\u001b[38;5;250m \u001b[39m\u001b[34mFlow_Sum_By_Element\u001b[39m(\u001b[38;5;28mself\u001b[39m,FlowKey):\n\u001b[32m    160\u001b[39m \u001b[38;5;250m    \u001b[39m\u001b[33;03m\"\"\" \u001b[39;00m\n\u001b[32m    161\u001b[39m \u001b[33;03m    Reduce flow values to a Time x Elements matrix and return as t x e array.\u001b[39;00m\n\u001b[32m    162\u001b[39m \u001b[33;03m    We take the indices of each flow, e.g., 't,O,D,G,m,e', strip off the ',' to get 'tODGme', \u001b[39;00m\n\u001b[32m   (...)\u001b[39m\u001b[32m    165\u001b[39m \u001b[33;03m    and apply it to the flow values. \u001b[39;00m\n\u001b[32m    166\u001b[39m \u001b[33;03m    \"\"\"\u001b[39;00m\n\u001b[32m--> \u001b[39m\u001b[32m167\u001b[39m     \u001b[38;5;28;01mreturn\u001b[39;00m \u001b[43mnp\u001b[49m\u001b[43m.\u001b[49m\u001b[43meinsum\u001b[49m\u001b[43m(\u001b[49m\u001b[38;5;28;43mself\u001b[39;49m\u001b[43m.\u001b[49m\u001b[43mFlowDict\u001b[49m\u001b[43m[\u001b[49m\u001b[43mFlowKey\u001b[49m\u001b[43m]\u001b[49m\u001b[43m.\u001b[49m\u001b[43mIndices\u001b[49m\u001b[43m.\u001b[49m\u001b[43mreplace\u001b[49m\u001b[43m(\u001b[49m\u001b[33;43m'\u001b[39;49m\u001b[33;43m,\u001b[39;49m\u001b[33;43m'\u001b[39;49m\u001b[43m,\u001b[49m\u001b[33;43m'\u001b[39;49m\u001b[33;43m'\u001b[39;49m\u001b[43m)\u001b[49m\u001b[43m \u001b[49m\u001b[43m+\u001b[49m\u001b[43m \u001b[49m\u001b[33;43m'\u001b[39;49m\u001b[33;43m->\u001b[39;49m\u001b[33;43m'\u001b[39;49m\u001b[43m+\u001b[49m\u001b[43m \u001b[49m\u001b[38;5;28;43mself\u001b[39;49m\u001b[43m.\u001b[49m\u001b[43mIndexTable\u001b[49m\u001b[43m.\u001b[49m\u001b[43mloc\u001b[49m\u001b[43m[\u001b[49m\u001b[33;43m'\u001b[39;49m\u001b[33;43mTime\u001b[39;49m\u001b[33;43m'\u001b[39;49m\u001b[43m]\u001b[49m\u001b[43m.\u001b[49m\u001b[43mIndexLetter\u001b[49m\u001b[43m \u001b[49m\u001b[43m+\u001b[49m\u001b[43m \u001b[49m\u001b[38;5;28;43mself\u001b[39;49m\u001b[43m.\u001b[49m\u001b[43mIndexTable\u001b[49m\u001b[43m.\u001b[49m\u001b[43mloc\u001b[49m\u001b[43m[\u001b[49m\u001b[33;43m'\u001b[39;49m\u001b[33;43mElement\u001b[39;49m\u001b[33;43m'\u001b[39;49m\u001b[43m]\u001b[49m\u001b[43m.\u001b[49m\u001b[43mIndexLetter\u001b[49m\u001b[43m \u001b[49m\u001b[43m,\u001b[49m\u001b[38;5;28;43mself\u001b[39;49m\u001b[43m.\u001b[49m\u001b[43mFlowDict\u001b[49m\u001b[43m[\u001b[49m\u001b[43mFlowKey\u001b[49m\u001b[43m]\u001b[49m\u001b[43m.\u001b[49m\u001b[43mValues\u001b[49m\u001b[43m)\u001b[49m\n",
      "\u001b[36mFile \u001b[39m\u001b[32mc:\\Users\\elisa\\Documents\\thesis\\.venv\\Lib\\site-packages\\numpy\\_core\\einsumfunc.py:1423\u001b[39m, in \u001b[36meinsum\u001b[39m\u001b[34m(out, optimize, *operands, **kwargs)\u001b[39m\n\u001b[32m   1421\u001b[39m     \u001b[38;5;28;01mif\u001b[39;00m specified_out:\n\u001b[32m   1422\u001b[39m         kwargs[\u001b[33m'\u001b[39m\u001b[33mout\u001b[39m\u001b[33m'\u001b[39m] = out\n\u001b[32m-> \u001b[39m\u001b[32m1423\u001b[39m     \u001b[38;5;28;01mreturn\u001b[39;00m \u001b[43mc_einsum\u001b[49m\u001b[43m(\u001b[49m\u001b[43m*\u001b[49m\u001b[43moperands\u001b[49m\u001b[43m,\u001b[49m\u001b[43m \u001b[49m\u001b[43m*\u001b[49m\u001b[43m*\u001b[49m\u001b[43mkwargs\u001b[49m\u001b[43m)\u001b[49m\n\u001b[32m   1425\u001b[39m \u001b[38;5;66;03m# Check the kwargs to avoid a more cryptic error later, without having to\u001b[39;00m\n\u001b[32m   1426\u001b[39m \u001b[38;5;66;03m# repeat default values here\u001b[39;00m\n\u001b[32m   1427\u001b[39m valid_einsum_kwargs = [\u001b[33m'\u001b[39m\u001b[33mdtype\u001b[39m\u001b[33m'\u001b[39m, \u001b[33m'\u001b[39m\u001b[33morder\u001b[39m\u001b[33m'\u001b[39m, \u001b[33m'\u001b[39m\u001b[33mcasting\u001b[39m\u001b[33m'\u001b[39m]\n",
      "\u001b[31mValueError\u001b[39m: einstein sum subscripts string included output subscript 'e' which never appeared in an input"
     ]
    }
   ],
   "source": [
    "Bal = Dyn_MFA_System.MassBalance()\n",
    "print(Bal.shape) # dimensions of balance are: time step x process x chemical element\n",
    "print(np.abs(Bal).sum(axis = 0)) # reports the sum of all absolute balancing errors by process."
   ]
  }
 ],
 "metadata": {
  "kernelspec": {
   "display_name": ".venv",
   "language": "python",
   "name": "python3"
  },
  "language_info": {
   "codemirror_mode": {
    "name": "ipython",
    "version": 3
   },
   "file_extension": ".py",
   "mimetype": "text/x-python",
   "name": "python",
   "nbconvert_exporter": "python",
   "pygments_lexer": "ipython3",
   "version": "3.11.10"
  }
 },
 "nbformat": 4,
 "nbformat_minor": 5
}
